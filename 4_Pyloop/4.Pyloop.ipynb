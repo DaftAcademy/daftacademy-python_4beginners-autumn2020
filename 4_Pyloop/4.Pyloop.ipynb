{
 "cells": [
  {
   "cell_type": "markdown",
   "metadata": {
    "slideshow": {
     "slide_type": "slide"
    }
   },
   "source": [
    "# Pyloop\n",
    "\n",
    "### Wojciech Łuszczyński\n",
    "### Python 4 Begginers 2020\n",
    "### Obsługa wyjątków w Pythonie, wirtualne środowiska, pliki ~~i \"sprytna\" obsługa \"większych\" zbiorów danych~~\n",
    "\n",
    "### Daft Academy Python4Beginners 24.11.2020"
   ]
  },
  {
   "cell_type": "markdown",
   "metadata": {
    "slideshow": {
     "slide_type": "slide"
    }
   },
   "source": [
    "# 1 Wirtualne środowiska"
   ]
  },
  {
   "cell_type": "markdown",
   "metadata": {
    "slideshow": {
     "slide_type": "fragment"
    }
   },
   "source": [
    "## 1.1 Jak zarządzać instalacją Pythona?"
   ]
  },
  {
   "cell_type": "markdown",
   "metadata": {
    "slideshow": {
     "slide_type": "subslide"
    }
   },
   "source": [
    "### 1.1.1 Wstęp - gdzie znajdziemy Pythona?"
   ]
  },
  {
   "cell_type": "markdown",
   "metadata": {
    "slideshow": {
     "slide_type": "fragment"
    }
   },
   "source": [
    "Domyślna instalacja Pythona na Linuksie. Wykonywalny program interpretera znajdziemy w katalogu z binarkami `/bin/`."
   ]
  },
  {
   "cell_type": "markdown",
   "metadata": {
    "slideshow": {
     "slide_type": "fragment"
    }
   },
   "source": [
    "```console\n",
    "$ which python\n",
    "/bin/python\n",
    "```"
   ]
  },
  {
   "cell_type": "markdown",
   "metadata": {
    "slideshow": {
     "slide_type": "fragment"
    }
   },
   "source": [
    "Biblioteki i reszta plików w tym i nasze pakiety znajdziemy w  `/usr/lib/`."
   ]
  },
  {
   "cell_type": "markdown",
   "metadata": {
    "slideshow": {
     "slide_type": "fragment"
    }
   },
   "source": [
    "```console\n",
    "$ ls /usr/lib/python3.7\n",
    "-rw-r--r--  1 root root 5,5K 10-22 12:41 abc.py\n",
    "-rwxr-xr-x  1 root root  20K 10-22 12:41 base64.py\n",
    "...\n",
    "drwxr-xr-x 88 root root 4,0K 11-16 15:26 site-packages\n",
    "...\n",
    "```"
   ]
  },
  {
   "cell_type": "markdown",
   "metadata": {
    "slideshow": {
     "slide_type": "fragment"
    }
   },
   "source": [
    "* `site-packages` to katalog, do którego trafiają zewnętrzne pakiety Pythona"
   ]
  },
  {
   "cell_type": "markdown",
   "metadata": {
    "slideshow": {
     "slide_type": "subslide"
    }
   },
   "source": [
    "### 1.1.2 `pip` Instalacja pakietów"
   ]
  },
  {
   "cell_type": "markdown",
   "metadata": {
    "slideshow": {
     "slide_type": "fragment"
    }
   },
   "source": [
    "`pip` - narzędzie dystrybuowane razem z Pythonem (od wersji 3.4)"
   ]
  },
  {
   "cell_type": "markdown",
   "metadata": {
    "slideshow": {
     "slide_type": "fragment"
    }
   },
   "source": [
    "`$ pip install [nazwa pakietu]`  / można też: `$ python -m pip install [nazwa pakietu]`"
   ]
  },
  {
   "cell_type": "markdown",
   "metadata": {
    "slideshow": {
     "slide_type": "fragment"
    }
   },
   "source": [
    "np. `pip install requests` "
   ]
  },
  {
   "cell_type": "markdown",
   "metadata": {
    "slideshow": {
     "slide_type": "fragment"
    }
   },
   "source": [
    "Zainstaluje pakiet oraz jego zależności."
   ]
  },
  {
   "cell_type": "markdown",
   "metadata": {
    "slideshow": {
     "slide_type": "fragment"
    }
   },
   "source": [
    "PIP instaluje pakiety do `site-packages` użytkownika (nie wymaga uprawnień administratora):"
   ]
  },
  {
   "cell_type": "markdown",
   "metadata": {
    "slideshow": {
     "slide_type": "fragment"
    }
   },
   "source": [
    "`$ pip install --user [nazwa paczki]`"
   ]
  },
  {
   "cell_type": "markdown",
   "metadata": {
    "slideshow": {
     "slide_type": "subslide"
    }
   },
   "source": [
    "### 1.1.3 Odinstalowanie pakietu"
   ]
  },
  {
   "cell_type": "markdown",
   "metadata": {
    "slideshow": {
     "slide_type": "fragment"
    }
   },
   "source": [
    "`$ pip uninstall [nazwa pakietu]`\n",
    "\n",
    "Odinstaluje pakiet, pozostawi jego zależności. (jeśli takowe posiadał)"
   ]
  },
  {
   "cell_type": "markdown",
   "metadata": {
    "slideshow": {
     "slide_type": "subslide"
    }
   },
   "source": [
    "### 1.1.4 Lista zainstalowanych pakietów"
   ]
  },
  {
   "cell_type": "markdown",
   "metadata": {
    "slideshow": {
     "slide_type": "fragment"
    }
   },
   "source": [
    "```console\n",
    "$ pip freeze\n",
    "dateparser==0.7.0\n",
    "humanize==0.5.1\n",
    "pendulum==1.5.1\n",
    "python-dateutil==2.7.5\n",
    "[...]\n",
    "```"
   ]
  },
  {
   "cell_type": "markdown",
   "metadata": {
    "slideshow": {
     "slide_type": "fragment"
    }
   },
   "source": [
    "Dzięki `$ pip freeze` Łatwo zapisać wszystkie pakiety z aktualnymi wersjami do pliku"
   ]
  },
  {
   "cell_type": "markdown",
   "metadata": {
    "slideshow": {
     "slide_type": "fragment"
    }
   },
   "source": [
    "`pip freeze > requirements.txt`"
   ]
  },
  {
   "cell_type": "markdown",
   "metadata": {
    "slideshow": {
     "slide_type": "subslide"
    }
   },
   "source": [
    "### 1.1.5 Instalacja z requirements.txt"
   ]
  },
  {
   "cell_type": "markdown",
   "metadata": {
    "slideshow": {
     "slide_type": "fragment"
    }
   },
   "source": [
    "`$ pip install -r requirements.txt`"
   ]
  },
  {
   "cell_type": "markdown",
   "metadata": {
    "slideshow": {
     "slide_type": "subslide"
    }
   },
   "source": [
    "### 1.1.6 Wyszukiwanie pakietów w (domyślnie w PyPI https://pypi.org/)"
   ]
  },
  {
   "cell_type": "markdown",
   "metadata": {
    "slideshow": {
     "slide_type": "fragment"
    }
   },
   "source": [
    "`$ pip search [nazwa pakietu]`"
   ]
  },
  {
   "cell_type": "markdown",
   "metadata": {
    "slideshow": {
     "slide_type": "subslide"
    }
   },
   "source": [
    "### 1.1.7 Inne cechy"
   ]
  },
  {
   "cell_type": "markdown",
   "metadata": {
    "slideshow": {
     "slide_type": "fragment"
    }
   },
   "source": [
    "* `pip` zapisuje pobrane pakiety w cache'u, dla szybszej ponownej instalacji\n",
    "* `pip check` - sprawdzi, czy w środowisku zainstalowane są wszystkie wymagane zależności, oraz czy nie ma konfliktów (np. pakiet A wymaga pakietu C w wersji <1.0, zaś pakiet B wymaga pakietu C w wersji >1.0)\n",
    "* Dokumentacja `pip` do poczytania: https://pip.pypa.io/en/stable/user_guide/"
   ]
  },
  {
   "cell_type": "markdown",
   "metadata": {
    "slideshow": {
     "slide_type": "subslide"
    }
   },
   "source": [
    "## 1.2 Czasami łatwo natrafić na problem(y)..."
   ]
  },
  {
   "cell_type": "markdown",
   "metadata": {
    "slideshow": {
     "slide_type": "fragment"
    }
   },
   "source": [
    "* W środowisku Pythona możemy mieć tylko jedną wersję danego pakietu, co może rodzić konflikty zależności:\n",
    "    * np. pracujemy nad swoim projektem wykorzystującym najnowszą wersję pakietu A\n",
    "    * i jednocześnie chcemy uruchomić projekt, w którym wymagana jest starsza wersja pakietu A.\n",
    "* Na Linuksie i OSX Python jest używany przez system operacyjny. Pakiety (lub ich wersje), które doinstalujemy w głównym katalogu mogą zdestabilizować narzędzia systemowe...\n",
    "* ...i odwrotnie, przy aktualizacji system może nam nadpisać wersje pakietów\n",
    "* Możemy mieć problem z uporządkowaniem wymagań naszego projektu -- a chcielibyśmy móc uruchomić go nie tylko na naszym komputerze."
   ]
  },
  {
   "cell_type": "markdown",
   "metadata": {
    "slideshow": {
     "slide_type": "subslide"
    }
   },
   "source": [
    "## 1.3 Środowisko wirtualne"
   ]
  },
  {
   "cell_type": "markdown",
   "metadata": {
    "slideshow": {
     "slide_type": "subslide"
    }
   },
   "source": [
    "### 1.3.1 Moduł `venv`"
   ]
  },
  {
   "cell_type": "markdown",
   "metadata": {
    "slideshow": {
     "slide_type": "fragment"
    }
   },
   "source": [
    "```console\n",
    "$ python -m venv [nazwa_enva]\n",
    "```"
   ]
  },
  {
   "cell_type": "markdown",
   "metadata": {
    "slideshow": {
     "slide_type": "fragment"
    }
   },
   "source": [
    "* Kopia środowiska Pythona, tworzona na żądanie\n",
    "   * binarka `python`\n",
    "   * biblioteka standardowa\n",
    "   * `pip` + skrypty do aktywacji i dezaktywacji środowiska\n",
    "   * instalujemy tylko pakiety, których potrzebujemy w konkretnym projekcie\n",
    "\n",
    "* Izolacja od pozostałych środowisk 👍"
   ]
  },
  {
   "cell_type": "markdown",
   "metadata": {
    "slideshow": {
     "slide_type": "subslide"
    }
   },
   "source": [
    "### 1.3.2 Sposób użycia - moduł `venv`"
   ]
  },
  {
   "cell_type": "markdown",
   "metadata": {
    "slideshow": {
     "slide_type": "fragment"
    }
   },
   "source": [
    "```console\n",
    "$ python -m venv some/path/to/some_project_venv\n",
    "```\n",
    "\n",
    "Utworzy środowisko w zadanym katalogu."
   ]
  },
  {
   "cell_type": "markdown",
   "metadata": {
    "slideshow": {
     "slide_type": "fragment"
    }
   },
   "source": [
    "```console\n",
    "$ ls some_project_venv\n",
    "bin  include  lib  lib64\n",
    "```"
   ]
  },
  {
   "cell_type": "markdown",
   "metadata": {
    "slideshow": {
     "slide_type": "fragment"
    }
   },
   "source": [
    "```console\n",
    "$ ls -l some_project_venv/bin\n",
    "-rw-r--r-- 1 daftcode daftcode 2248 11-23 11:15 activate\n",
    "-rwxr-xr-x 1 daftcode daftcode  257 11-23 11:15 pip\n",
    "lrwxrwxrwx 1 daftcode daftcode   11 11-23 11:15 python -> /bin/python\n",
    "[...]\n",
    "```"
   ]
  },
  {
   "cell_type": "markdown",
   "metadata": {
    "slideshow": {
     "slide_type": "fragment"
    }
   },
   "source": [
    "```console\n",
    "$ ls some_project_venv/lib/Python3.7\n",
    "site-packages\n",
    "```"
   ]
  },
  {
   "cell_type": "markdown",
   "metadata": {
    "slideshow": {
     "slide_type": "subslide"
    }
   },
   "source": [
    "### 1.3.3. Aktywacja środowiska - skrypt shellowy `activate`"
   ]
  },
  {
   "cell_type": "markdown",
   "metadata": {
    "slideshow": {
     "slide_type": "fragment"
    }
   },
   "source": [
    "Platform  \t|Shell \t|Command to activate virtual environment\n",
    "---------------|----|-----------------------------------------\n",
    "Posix \t|bash/zsh \t|`$ source <venv>/bin/activate`\n",
    "  |  \tfish \t|`$ . <venv>/bin/activate.fish`\n",
    "  |  \tcsh/tcsh \t|`$ source <venv>/bin/activate.csh`\n",
    "Windows \t|cmd.exe \t|`C:\\> <venv>\\Scripts\\activate.bat`\n",
    "  |  \tPowerShell \t|`PS C:\\> <venv>\\Scripts\\Activate.ps1`\n",
    "\n",
    "https://docs.python.org/3/library/venv.html#creating-virtual-environments"
   ]
  },
  {
   "cell_type": "markdown",
   "metadata": {
    "slideshow": {
     "slide_type": "subslide"
    }
   },
   "source": [
    "### 1.3.4 Jak to działa?"
   ]
  },
  {
   "cell_type": "markdown",
   "metadata": {
    "slideshow": {
     "slide_type": "fragment"
    }
   },
   "source": [
    "skrypt `activate` wprowadza zmiany w bieżącej sesji terminala:\n",
    "\n",
    "* modyfikacja *zmiennej środowiskowej* `PATH` - Skierowanie na `pythona`, `pip`a i inne pliki wykonywalne pod nowym adresem\n",
    "* ustawienie zmiennej środowiskowej `VIRTUAL_ENV` - po uruchomieniu Python wie, skąd ładować importowane pakiety, a pip wie, gdzie instalować\n",
    "* stworzenie komendy (funkcji w shellu) `deactivate`"
   ]
  },
  {
   "cell_type": "markdown",
   "metadata": {
    "slideshow": {
     "slide_type": "subslide"
    }
   },
   "source": [
    "## 1.4 Jak pracować z virtualenv ?"
   ]
  },
  {
   "cell_type": "markdown",
   "metadata": {
    "slideshow": {
     "slide_type": "subslide"
    }
   },
   "source": [
    "### 1.4.1 Przerażająca codzienność"
   ]
  },
  {
   "cell_type": "markdown",
   "metadata": {
    "slideshow": {
     "slide_type": "fragment"
    }
   },
   "source": [
    "Środowisko wirtualne w katalogu projektu:\n",
    "\n",
    "* w katalogu projektu (powiedzmy `my_project`) odpalam `python -m venv env_my_project`\n",
    "* [jeśli używam `git`a, wpisuję katalog `env_my_project` do pliku `.gitignore`]\n",
    "* aktywuję środowisko `source env_my_project/bin/activate` (za każdym razem, gdy w nowym terminalu uruchamiam pliki projektu)\n",
    "* instaluję potrzebne pakiety (to tylko raz)\n",
    "* gdy projekt działa, zapisuję jego wymagania w pliku requirements: `pip freeze > requirements.txt`. Przyda się, gdy będę budować środowisko od nowa (`pip install -r requirements.txt`)\n",
    "* gdy kończę pracę nad projektem i nie chcę zamykać okna terminala, dezaktywuję środowisko poleceniem `deactivate`"
   ]
  },
  {
   "cell_type": "markdown",
   "metadata": {
    "slideshow": {
     "slide_type": "subslide"
    }
   },
   "source": [
    "### 1.4.2 Dobre praktyki"
   ]
  },
  {
   "cell_type": "markdown",
   "metadata": {
    "slideshow": {
     "slide_type": "fragment"
    }
   },
   "source": [
    "* NIE instalujemy pakietów w głównym środowisku Pythona. To się może źle skończyć.\n",
    "* narzędzia, do których chcemy mieć dostęp w całym systemie (jako nasz użytkownik) instalujemy przez `pip install --user [paczka]`\n",
    "* do każdego projektu w pythonie używamy osobnego virtualenva"
   ]
  },
  {
   "cell_type": "markdown",
   "metadata": {
    "slideshow": {
     "slide_type": "subslide"
    }
   },
   "source": [
    "### 1.4.3 Drobne problemy użytkowania virtualneva"
   ]
  },
  {
   "cell_type": "markdown",
   "metadata": {
    "slideshow": {
     "slide_type": "fragment"
    }
   },
   "source": [
    "* Trzeba ręcznie stworzyć i nazwać środowisko wirtualne\n",
    "* Trzeba pamiętać, jak mój virtualenv się nazywa i gdzie w systemie plików się znajduje\n",
    "* Aby aktywować środowisko muszę wpisywać długie polecenia\n",
    "* Środowisko wirtualne ma masę niepotrzebnych pakietów i nie mamy pewności, które dokładnie pakiety mogę usunąć"
   ]
  },
  {
   "cell_type": "markdown",
   "metadata": {
    "slideshow": {
     "slide_type": "subslide"
    }
   },
   "source": [
    "## 1.5 Trochę prościej - `virtualenvwrapper`"
   ]
  },
  {
   "cell_type": "markdown",
   "metadata": {
    "slideshow": {
     "slide_type": "fragment"
    }
   },
   "source": [
    "* napisany w PERLu wrapper na virtualenv\n",
    "* środowiska wirtualne w jednym miejscu (virtualevwrapper przechowuje wszystkie envy w swoim katalogu domyślnym)\n",
    "    * Trzymanie venv-ów w osobnym katalogu ułatwia pracę z projektem, GITem oraz IDE (jeśli kożystamy)\n",
    "* wygodne polecenia, np. `mkvirtualenv [nazwa]`, `workon [nazwa]`\n",
    "* możliwość skonfigurowania auto-aktywacji środowiska po wejściu do katalogu projektu\n",
    "* dokumentacja: https://virtualenvwrapper.readthedocs.io/en/latest/"
   ]
  },
  {
   "cell_type": "markdown",
   "metadata": {
    "slideshow": {
     "slide_type": "subslide"
    }
   },
   "source": [
    "## 1.6 `pipenv` - poziom wyżej ??"
   ]
  },
  {
   "cell_type": "markdown",
   "metadata": {
    "slideshow": {
     "slide_type": "fragment"
    }
   },
   "source": [
    "https://pipenv.readthedocs.io/en/latest/\n",
    "\n",
    "Napisany przez ludzi odpowiedzialnych z jeden z najlepszych pakietów w świecie Pythona `requests`\n",
    "Rekomendowany (przez nich) system zarządzania zależnościami w projektach pythonowych.\n",
    "\n",
    "Używa `pip` i `venv` za nas, dodając do tego wiele mądrych automatyzacji."
   ]
  },
  {
   "cell_type": "markdown",
   "metadata": {
    "slideshow": {
     "slide_type": "subslide"
    }
   },
   "source": [
    "### 1.6.1 `pipenv` - szybki start"
   ]
  },
  {
   "cell_type": "markdown",
   "metadata": {
    "slideshow": {
     "slide_type": "fragment"
    }
   },
   "source": [
    "https://pipenv.readthedocs.io/en/latest/install/#installing-pipenv\n",
    "    \n",
    "OSX: `brew install pipenv`\n",
    "\n",
    "Win/Linux: `pip install --user pipenv`"
   ]
  },
  {
   "cell_type": "markdown",
   "metadata": {
    "slideshow": {
     "slide_type": "subslide"
    }
   },
   "source": [
    "### 1.6.2 Codzienność z `pipenv`"
   ]
  },
  {
   "cell_type": "markdown",
   "metadata": {
    "slideshow": {
     "slide_type": "fragment"
    }
   },
   "source": [
    "* przechodzimy w konsoli do katalogu projektu: `cd my_project`\n",
    "* od razu coś instalujemy, np. bibliotekę `requests`: `pipenv install requests`\n",
    "* `pipenv` automatycznie znajduje/tworzy środowisko wirtualne (w swoim centralnym katalogu)\n",
    "* automatycznie tworzy w projekcie pliki `Pipfile` i `Pipfile.lock` (lepszy odpowiednik `requirements.txt`)"
   ]
  },
  {
   "cell_type": "markdown",
   "metadata": {
    "slideshow": {
     "slide_type": "subslide"
    }
   },
   "source": [
    "```console\n",
    "➜  experiments$ mkdir my_project\n",
    "➜  experiments$ cd my_project \n",
    "➜  my_project$ pipenv install requests\n",
    "Creating a virtualenv for this project…\n",
    "Pipfile: /home/asia/experiments/my_project/Pipfile\n",
    "Using /usr/bin/python (3.7.1) to create virtualenv…\n",
    "✔ Complete \n",
    "Using interpreter /bin/python\n",
    "New python executable in /home/asia/venvs/my_project-F8Fo0uYg/bin/python\n",
    "Installing setuptools, pip, wheel...done.\n",
    "Virtualenv location: /home/asia/venvs/my_project-F8Fo0uYg\n",
    "Creating a Pipfile for this project…\n",
    "Installing requests…\n",
    "Adding requests to Pipfile's [packages]…\n",
    "✔ Installation Succeeded \n",
    "Pipfile.lock not found, creating…\n",
    "Locking [dev-packages] dependencies…\n",
    "Locking [packages] dependencies…\n",
    "✔ Success! \n",
    "Updated Pipfile.lock (444a6d)!\n",
    "Installing dependencies from Pipfile.lock (444a6d)…\n",
    "  🐍   ▉▉▉▉▉▉▉▉▉▉▉▉▉▉▉▉▉▉▉▉▉▉▉▉▉▉▉▉▉▉▉▉ 5/5 — 00:00:01\n",
    "To activate this project's virtualenv, run pipenv shell.\n",
    "Alternatively, run a command inside the virtualenv with pipenv run.\n",
    "\n",
    "```"
   ]
  },
  {
   "cell_type": "markdown",
   "metadata": {
    "slideshow": {
     "slide_type": "subslide"
    }
   },
   "source": [
    "### 1.6.3 `pipenv` - aktywacja środowiska"
   ]
  },
  {
   "cell_type": "markdown",
   "metadata": {
    "slideshow": {
     "slide_type": "fragment"
    }
   },
   "source": [
    "* aktywujemy środowisko poleceniem `pipenv shell`, dezaktywujemy poleceniem `exit` (uruchamiamy/kończymy nowy shell)\n",
    "* możemy też uruchomić swoje programy bez wcześniejszej aktywacji, np. `pipenv run python my_program.py`"
   ]
  },
  {
   "cell_type": "markdown",
   "metadata": {
    "slideshow": {
     "slide_type": "subslide"
    }
   },
   "source": [
    "### 1.6.4 `pipenv` - Pipfile + Pipfile.lock"
   ]
  },
  {
   "cell_type": "markdown",
   "metadata": {
    "slideshow": {
     "slide_type": "fragment"
    }
   },
   "source": [
    "* `Pipfile` - deklarowane zależności projektu (np. `requests`) - czytelny dla człowieka\n",
    "* każda instalacja/deinstalacja aktualizuje `Pipfile`\n",
    "* `Pipfile.lock` - wszystkie zależności (czyli np. także zależności biblioteki `requests`), stan całego środowiska - czytelny dla pipenva"
   ]
  },
  {
   "cell_type": "markdown",
   "metadata": {
    "slideshow": {
     "slide_type": "subslide"
    }
   },
   "source": [
    "### 1.6.5 Prosty `Pipfile`"
   ]
  },
  {
   "cell_type": "markdown",
   "metadata": {
    "slideshow": {
     "slide_type": "fragment"
    }
   },
   "source": [
    "```toml\n",
    "[[source]]\n",
    "name = \"pypi\"\n",
    "url = \"https://pypi.org/simple\"\n",
    "verify_ssl = true\n",
    "\n",
    "[dev-packages]\n",
    "\n",
    "[packages]\n",
    "requests = \"*\"\n",
    "\n",
    "[requires]\n",
    "python_version = \"3.8\"\n",
    "```"
   ]
  },
  {
   "cell_type": "markdown",
   "metadata": {
    "slideshow": {
     "slide_type": "slide"
    }
   },
   "source": [
    "### 1.6.6 `pipenv` - Sprzątanie środowiska"
   ]
  },
  {
   "cell_type": "markdown",
   "metadata": {
    "slideshow": {
     "slide_type": "fragment"
    }
   },
   "source": [
    "`$ pipenv uninstall [paczka]` - usuwa pakiet, aktualizuje Pipfile\n",
    "\n",
    "\n",
    "`$ pipenv clean` - usunie niepotrzebne zależności pakietów, których już nie ma w Pipfile"
   ]
  },
  {
   "cell_type": "markdown",
   "metadata": {
    "slideshow": {
     "slide_type": "slide"
    }
   },
   "source": [
    "# 2. Wyjątki"
   ]
  },
  {
   "cell_type": "markdown",
   "metadata": {
    "slideshow": {
     "slide_type": "subslide"
    }
   },
   "source": [
    "## 2.1 Syntax Error"
   ]
  },
  {
   "cell_type": "markdown",
   "metadata": {
    "slideshow": {
     "slide_type": "fragment"
    }
   },
   "source": [
    "- błąd interpretera podczas parsowania skryptu\n",
    "- błąd składniowy\n",
    "- domyślnie pythonowy interpreter poda linijkę i miejsce wystąpienia błędu składniowego i przestanie dalej przetwarzać plik\n",
    "\n",
    "https://docs.python.org/3.8/tutorial/errors.html#syntax-errors"
   ]
  },
  {
   "cell_type": "markdown",
   "metadata": {
    "slideshow": {
     "slide_type": "subslide"
    }
   },
   "source": [
    "## 2.2 Wyjątki (`Exceptions`)"
   ]
  },
  {
   "cell_type": "code",
   "execution_count": 2,
   "metadata": {
    "slideshow": {
     "slide_type": "fragment"
    }
   },
   "outputs": [],
   "source": [
    "f = open(\"test.txt\", \"w\")"
   ]
  },
  {
   "cell_type": "code",
   "execution_count": 3,
   "metadata": {
    "slideshow": {
     "slide_type": "fragment"
    }
   },
   "outputs": [
    {
     "data": {
      "text/plain": [
       "15"
      ]
     },
     "execution_count": 3,
     "metadata": {},
     "output_type": "execute_result"
    }
   ],
   "source": [
    "f.write(\"Linia pierwsza\\n\")"
   ]
  },
  {
   "cell_type": "code",
   "execution_count": 4,
   "metadata": {
    "slideshow": {
     "slide_type": "fragment"
    }
   },
   "outputs": [
    {
     "data": {
      "text/plain": [
       "12"
      ]
     },
     "execution_count": 4,
     "metadata": {},
     "output_type": "execute_result"
    }
   ],
   "source": [
    "f.write(\"Linia druga\\n\")"
   ]
  },
  {
   "cell_type": "code",
   "execution_count": 5,
   "metadata": {
    "slideshow": {
     "slide_type": "fragment"
    }
   },
   "outputs": [
    {
     "data": {
      "text/plain": [
       "14"
      ]
     },
     "execution_count": 5,
     "metadata": {},
     "output_type": "execute_result"
    }
   ],
   "source": [
    "f.write(\"Linia trzecia\\n\")"
   ]
  },
  {
   "cell_type": "code",
   "execution_count": 6,
   "metadata": {
    "slideshow": {
     "slide_type": "fragment"
    }
   },
   "outputs": [
    {
     "ename": "ZeroDivisionError",
     "evalue": "division by zero",
     "output_type": "error",
     "traceback": [
      "\u001b[0;31m---------------------------------------------------------------------------\u001b[0m",
      "\u001b[0;31mZeroDivisionError\u001b[0m                         Traceback (most recent call last)",
      "\u001b[0;32m<ipython-input-6-761429a7116b>\u001b[0m in \u001b[0;36m<module>\u001b[0;34m\u001b[0m\n\u001b[0;32m----> 1\u001b[0;31m \u001b[0mx\u001b[0m \u001b[0;34m=\u001b[0m \u001b[0;36m1\u001b[0m \u001b[0;34m/\u001b[0m \u001b[0;36m0\u001b[0m\u001b[0;34m\u001b[0m\u001b[0;34m\u001b[0m\u001b[0m\n\u001b[0m\u001b[1;32m      2\u001b[0m \u001b[0mf\u001b[0m\u001b[0;34m.\u001b[0m\u001b[0mclose\u001b[0m\u001b[0;34m(\u001b[0m\u001b[0;34m)\u001b[0m\u001b[0;34m\u001b[0m\u001b[0;34m\u001b[0m\u001b[0m\n",
      "\u001b[0;31mZeroDivisionError\u001b[0m: division by zero"
     ]
    }
   ],
   "source": [
    "x = 1 / 0\n",
    "f.close()"
   ]
  },
  {
   "cell_type": "markdown",
   "metadata": {
    "slideshow": {
     "slide_type": "subslide"
    }
   },
   "source": [
    "__Wyjątki__:\n",
    "- błędy w trakcie wykonywania programu (Runtime Error)\n",
    "- zazwyczaj zwracają jakiś opis błędu\n",
    "- można sobie z nimi radzić"
   ]
  },
  {
   "cell_type": "markdown",
   "metadata": {
    "slideshow": {
     "slide_type": "-"
    }
   },
   "source": [
    "- https://docs.python.org/3.8/tutorial/errors.html#exceptions\n",
    "- https://jeffknupp.com/blog/2013/02/06/write-cleaner-python-use-exceptions/"
   ]
  },
  {
   "cell_type": "markdown",
   "metadata": {
    "slideshow": {
     "slide_type": "subslide"
    },
    "toc-hr-collapsed": false
   },
   "source": [
    "## 2.3 \"Łapanie\" wyjątków"
   ]
  },
  {
   "cell_type": "markdown",
   "metadata": {
    "slideshow": {
     "slide_type": "subslide"
    }
   },
   "source": [
    "### 2.3.1 Try Except"
   ]
  },
  {
   "cell_type": "code",
   "execution_count": 67,
   "metadata": {
    "slideshow": {
     "slide_type": "subslide"
    }
   },
   "outputs": [
    {
     "name": "stdout",
     "output_type": "stream",
     "text": [
      "4\n"
     ]
    }
   ],
   "source": [
    "try:\n",
    "    my_int = int(\"4\")\n",
    "    print(my_int)\n",
    "except:\n",
    "    pass"
   ]
  },
  {
   "cell_type": "code",
   "execution_count": 68,
   "metadata": {
    "slideshow": {
     "slide_type": "fragment"
    }
   },
   "outputs": [
    {
     "name": "stdout",
     "output_type": "stream",
     "text": [
      "4\n"
     ]
    }
   ],
   "source": [
    "try:\n",
    "    my_int = int(\"4\")\n",
    "    print(my_int)\n",
    "except ValueError:\n",
    "    print('Złapałem value error!')"
   ]
  },
  {
   "cell_type": "markdown",
   "metadata": {
    "slideshow": {
     "slide_type": "fragment"
    }
   },
   "source": [
    "- Słowo kluczowe `try` rozpoczyna blok \"Łapania wyjątku\"\n",
    "- Słowo kluczowe `except` jest obowiązkowe jeśli rozpoczęliśmy blok `try`\n",
    "- Na początek wykonywany jest kod w bloku `try`\n",
    "- Jeżeli nie ma błędu, kod z `try` jest wykonany w całości, a kod w `except` jest pomijany"
   ]
  },
  {
   "cell_type": "code",
   "execution_count": 69,
   "metadata": {
    "slideshow": {
     "slide_type": "subslide"
    }
   },
   "outputs": [
    {
     "name": "stdout",
     "output_type": "stream",
     "text": [
      "Złapałem value error!\n"
     ]
    }
   ],
   "source": [
    "try:\n",
    "    my_int = int(\"nie int :(\")\n",
    "    print(my_int)\n",
    "except ValueError:\n",
    "    print(\"Złapałem value error!\")"
   ]
  },
  {
   "cell_type": "markdown",
   "metadata": {
    "slideshow": {
     "slide_type": "fragment"
    }
   },
   "source": [
    "- Jeżeli pojawi się błąd, wykonanie kodu w bloku `try` jest przerwane\n",
    "- Jeżeli błąd jest łapanego przez nas typu, to wykonywany jest kod zapisany w bloku `except`"
   ]
  },
  {
   "cell_type": "code",
   "execution_count": 7,
   "metadata": {
    "slideshow": {
     "slide_type": "subslide"
    }
   },
   "outputs": [
    {
     "name": "stdout",
     "output_type": "stream",
     "text": [
      "4\n",
      "Dostalem ValueError lub KeyError\n"
     ]
    }
   ],
   "source": [
    "try:\n",
    "    my_int = int(\"4\")\n",
    "    print(my_int)\n",
    "    a = {\"b\": \"c\"}\n",
    "    print(a[\"d\"])\n",
    "except (ValueError, KeyError): \n",
    "    print(\"Dostalem ValueError lub KeyError\")"
   ]
  },
  {
   "cell_type": "markdown",
   "metadata": {
    "slideshow": {
     "slide_type": "subslide"
    }
   },
   "source": [
    "- Można łapać więcej niż jeden wyjątek jednocześnie"
   ]
  },
  {
   "cell_type": "code",
   "execution_count": 71,
   "metadata": {
    "slideshow": {
     "slide_type": "fragment"
    }
   },
   "outputs": [
    {
     "name": "stdout",
     "output_type": "stream",
     "text": [
      "4\n",
      "Złapałem KeyError\n"
     ]
    }
   ],
   "source": [
    "try:\n",
    "    my_int = int(\"4\")\n",
    "    print(my_int)\n",
    "    a = {\"b\": \"c\"}\n",
    "    print(a[\"d\"])\n",
    "except ValueError:\n",
    "    print(\"Złapałem ValueError\")\n",
    "except KeyError:\n",
    "    print(\"Złapałem KeyError\")"
   ]
  },
  {
   "cell_type": "markdown",
   "metadata": {
    "slideshow": {
     "slide_type": "subslide"
    }
   },
   "source": [
    "- Obsługa wyjątków może przyjąć tak dużo bloków `except` ile potrzebujemy"
   ]
  },
  {
   "cell_type": "code",
   "execution_count": 8,
   "metadata": {
    "slideshow": {
     "slide_type": "fragment"
    }
   },
   "outputs": [
    {
     "name": "stdout",
     "output_type": "stream",
     "text": [
      "4\n"
     ]
    },
    {
     "ename": "AttributeError",
     "evalue": "'dict' object has no attribute 'append'",
     "output_type": "error",
     "traceback": [
      "\u001b[0;31m---------------------------------------------------------------------------\u001b[0m",
      "\u001b[0;31mAttributeError\u001b[0m                            Traceback (most recent call last)",
      "\u001b[0;32m<ipython-input-8-2e8d09d4b231>\u001b[0m in \u001b[0;36m<module>\u001b[0;34m\u001b[0m\n\u001b[1;32m      3\u001b[0m     \u001b[0mprint\u001b[0m\u001b[0;34m(\u001b[0m\u001b[0mmy_int\u001b[0m\u001b[0;34m)\u001b[0m\u001b[0;34m\u001b[0m\u001b[0;34m\u001b[0m\u001b[0m\n\u001b[1;32m      4\u001b[0m     \u001b[0ma\u001b[0m \u001b[0;34m=\u001b[0m \u001b[0;34m{\u001b[0m\u001b[0;34m\"b\"\u001b[0m\u001b[0;34m:\u001b[0m \u001b[0;34m\"c\"\u001b[0m\u001b[0;34m}\u001b[0m\u001b[0;34m\u001b[0m\u001b[0;34m\u001b[0m\u001b[0m\n\u001b[0;32m----> 5\u001b[0;31m     \u001b[0mprint\u001b[0m\u001b[0;34m(\u001b[0m\u001b[0ma\u001b[0m\u001b[0;34m.\u001b[0m\u001b[0mappend\u001b[0m\u001b[0;34m(\u001b[0m\u001b[0;34m\"my_int\"\u001b[0m\u001b[0;34m)\u001b[0m\u001b[0;34m)\u001b[0m\u001b[0;34m\u001b[0m\u001b[0;34m\u001b[0m\u001b[0m\n\u001b[0m\u001b[1;32m      6\u001b[0m \u001b[0;32mexcept\u001b[0m \u001b[0mValueError\u001b[0m\u001b[0;34m:\u001b[0m\u001b[0;34m\u001b[0m\u001b[0;34m\u001b[0m\u001b[0m\n\u001b[1;32m      7\u001b[0m     \u001b[0mprint\u001b[0m\u001b[0;34m(\u001b[0m\u001b[0;34m\"Złapałem ValueError\"\u001b[0m\u001b[0;34m)\u001b[0m\u001b[0;34m\u001b[0m\u001b[0;34m\u001b[0m\u001b[0m\n",
      "\u001b[0;31mAttributeError\u001b[0m: 'dict' object has no attribute 'append'"
     ]
    }
   ],
   "source": [
    "try:\n",
    "    my_int = int(\"4\")\n",
    "    print(my_int)\n",
    "    a = {\"b\": \"c\"}\n",
    "    print(a.append(\"my_int\"))\n",
    "except ValueError:\n",
    "    print(\"Złapałem ValueError\")\n",
    "except KeyError:\n",
    "    print(\"Złapałem KeyError\")    "
   ]
  },
  {
   "cell_type": "markdown",
   "metadata": {
    "slideshow": {
     "slide_type": "subslide"
    }
   },
   "source": [
    "- Jeżeli wystąpi nieobsłużony błąd - wyjątek nie jest złapany, a program zakończy działanie na tym błędzie"
   ]
  },
  {
   "cell_type": "code",
   "execution_count": 9,
   "metadata": {
    "slideshow": {
     "slide_type": "fragment"
    }
   },
   "outputs": [],
   "source": [
    "def fun(my_int, my_dict):\n",
    "    print (my_int, my_dict)\n",
    "    try:\n",
    "        int(my_int)\n",
    "        my_dict['a']\n",
    "    except:\n",
    "        print(\"Złapałem dowolny błąd\")"
   ]
  },
  {
   "cell_type": "code",
   "execution_count": 12,
   "metadata": {
    "slideshow": {
     "slide_type": "fragment"
    }
   },
   "outputs": [
    {
     "name": "stdout",
     "output_type": "stream",
     "text": [
      "xx {'a': 'b'}\n",
      "Złapałem dowolny błąd\n"
     ]
    }
   ],
   "source": [
    "fun(\"xx\", {\"a\": \"b\"})"
   ]
  },
  {
   "cell_type": "code",
   "execution_count": 10,
   "metadata": {
    "slideshow": {
     "slide_type": "fragment"
    }
   },
   "outputs": [
    {
     "name": "stdout",
     "output_type": "stream",
     "text": [
      "4 {'c': 'd'}\n",
      "Złapałem dowolny błąd\n"
     ]
    }
   ],
   "source": [
    "fun(\"4\", {\"c\": \"d\"})"
   ]
  },
  {
   "cell_type": "markdown",
   "metadata": {
    "slideshow": {
     "slide_type": "fragment"
    }
   },
   "source": [
    "- Możliwe jest łapanie dowolnego rodzaju błędu - używać z rozwagą - zazwyczaj chcemy łapać konkretny błąd.\n",
    "- Można łatwo przegapić zwykły błąd programistyczny gdy staramy się obsługiwać wszystkie błędy na raz"
   ]
  },
  {
   "cell_type": "markdown",
   "metadata": {
    "slideshow": {
     "slide_type": "subslide"
    }
   },
   "source": [
    "### 2.3.2 Wbudowane wyjątki"
   ]
  },
  {
   "cell_type": "markdown",
   "metadata": {
    "slideshow": {
     "slide_type": "fragment"
    }
   },
   "source": [
    "- https://docs.python.org/3.8/library/exceptions.html#bltin-exceptions"
   ]
  },
  {
   "cell_type": "markdown",
   "metadata": {
    "slideshow": {
     "slide_type": "fragment"
    }
   },
   "source": [
    "- wszystkie klasy wyjątków dziedziczą pośrednio lub bezpośrednio z BaseException\n",
    "- w większości przypadków instancje klasy wyjątków dziedziczą z Exception (sprawdź w dokumentacji)\n",
    "- python posiada bardzo rozbudowaną hierarchie błędów\n",
    "- warto zobaczyć: https://docs.python.org/3.8/library/exceptions.html#exception-hierarchy"
   ]
  },
  {
   "cell_type": "markdown",
   "metadata": {
    "slideshow": {
     "slide_type": "subslide"
    }
   },
   "source": [
    "## 2.4 \"Rzucanie\" wyjątkiem"
   ]
  },
  {
   "cell_type": "code",
   "execution_count": 12,
   "metadata": {
    "slideshow": {
     "slide_type": "subslide"
    }
   },
   "outputs": [
    {
     "ename": "ValueError",
     "evalue": "Poważny błąd!",
     "output_type": "error",
     "traceback": [
      "\u001b[0;31m---------------------------------------------------------------------------\u001b[0m",
      "\u001b[0;31mValueError\u001b[0m                                Traceback (most recent call last)",
      "\u001b[0;32m<ipython-input-12-3d4adc92028b>\u001b[0m in \u001b[0;36m<module>\u001b[0;34m\u001b[0m\n\u001b[0;32m----> 1\u001b[0;31m \u001b[0;32mraise\u001b[0m \u001b[0mValueError\u001b[0m\u001b[0;34m(\u001b[0m\u001b[0;34m\"Poważny błąd!\"\u001b[0m\u001b[0;34m)\u001b[0m\u001b[0;34m\u001b[0m\u001b[0;34m\u001b[0m\u001b[0m\n\u001b[0m",
      "\u001b[0;31mValueError\u001b[0m: Poważny błąd!"
     ]
    }
   ],
   "source": [
    "raise ValueError(\"Poważny błąd!\")"
   ]
  },
  {
   "cell_type": "markdown",
   "metadata": {
    "slideshow": {
     "slide_type": "fragment"
    }
   },
   "source": [
    "- Możemy rzucać zarówno instancję wyjątku, jak i klasę"
   ]
  },
  {
   "cell_type": "code",
   "execution_count": 13,
   "metadata": {
    "slideshow": {
     "slide_type": "-"
    }
   },
   "outputs": [
    {
     "ename": "ValueError",
     "evalue": "",
     "output_type": "error",
     "traceback": [
      "\u001b[0;31m---------------------------------------------------------------------------\u001b[0m",
      "\u001b[0;31mValueError\u001b[0m                                Traceback (most recent call last)",
      "\u001b[0;32m<ipython-input-13-e4c8e09828d5>\u001b[0m in \u001b[0;36m<module>\u001b[0;34m\u001b[0m\n\u001b[0;32m----> 1\u001b[0;31m \u001b[0;32mraise\u001b[0m \u001b[0mValueError\u001b[0m\u001b[0;34m\u001b[0m\u001b[0;34m\u001b[0m\u001b[0m\n\u001b[0m",
      "\u001b[0;31mValueError\u001b[0m: "
     ]
    }
   ],
   "source": [
    "raise ValueError"
   ]
  },
  {
   "cell_type": "code",
   "execution_count": 14,
   "metadata": {
    "slideshow": {
     "slide_type": "subslide"
    }
   },
   "outputs": [],
   "source": [
    "def fun(my_int, my_dict):\n",
    "    print (my_int, my_dict)\n",
    "    try:\n",
    "        int(my_int)\n",
    "        my_dict[\"a\"]\n",
    "    except ValueError:\n",
    "        print(\"Złapałem ValueError\")\n",
    "        raise"
   ]
  },
  {
   "cell_type": "code",
   "execution_count": 15,
   "metadata": {
    "slideshow": {
     "slide_type": "fragment"
    }
   },
   "outputs": [
    {
     "name": "stdout",
     "output_type": "stream",
     "text": [
      "xx {'a': 'b'}\n",
      "Złapałem ValueError\n"
     ]
    },
    {
     "ename": "ValueError",
     "evalue": "invalid literal for int() with base 10: 'xx'",
     "output_type": "error",
     "traceback": [
      "\u001b[0;31m---------------------------------------------------------------------------\u001b[0m",
      "\u001b[0;31mValueError\u001b[0m                                Traceback (most recent call last)",
      "\u001b[0;32m<ipython-input-15-ee3bf2f862cc>\u001b[0m in \u001b[0;36m<module>\u001b[0;34m\u001b[0m\n\u001b[0;32m----> 1\u001b[0;31m \u001b[0mfun\u001b[0m\u001b[0;34m(\u001b[0m\u001b[0;34m\"xx\"\u001b[0m\u001b[0;34m,\u001b[0m \u001b[0;34m{\u001b[0m\u001b[0;34m\"a\"\u001b[0m\u001b[0;34m:\u001b[0m \u001b[0;34m\"b\"\u001b[0m\u001b[0;34m}\u001b[0m\u001b[0;34m)\u001b[0m\u001b[0;34m\u001b[0m\u001b[0;34m\u001b[0m\u001b[0m\n\u001b[0m",
      "\u001b[0;32m<ipython-input-14-64a3686f7fdd>\u001b[0m in \u001b[0;36mfun\u001b[0;34m(my_int, my_dict)\u001b[0m\n\u001b[1;32m      2\u001b[0m     \u001b[0mprint\u001b[0m \u001b[0;34m(\u001b[0m\u001b[0mmy_int\u001b[0m\u001b[0;34m,\u001b[0m \u001b[0mmy_dict\u001b[0m\u001b[0;34m)\u001b[0m\u001b[0;34m\u001b[0m\u001b[0;34m\u001b[0m\u001b[0m\n\u001b[1;32m      3\u001b[0m     \u001b[0;32mtry\u001b[0m\u001b[0;34m:\u001b[0m\u001b[0;34m\u001b[0m\u001b[0;34m\u001b[0m\u001b[0m\n\u001b[0;32m----> 4\u001b[0;31m         \u001b[0mint\u001b[0m\u001b[0;34m(\u001b[0m\u001b[0mmy_int\u001b[0m\u001b[0;34m)\u001b[0m\u001b[0;34m\u001b[0m\u001b[0;34m\u001b[0m\u001b[0m\n\u001b[0m\u001b[1;32m      5\u001b[0m         \u001b[0mmy_dict\u001b[0m\u001b[0;34m[\u001b[0m\u001b[0;34m\"a\"\u001b[0m\u001b[0;34m]\u001b[0m\u001b[0;34m\u001b[0m\u001b[0;34m\u001b[0m\u001b[0m\n\u001b[1;32m      6\u001b[0m     \u001b[0;32mexcept\u001b[0m \u001b[0mValueError\u001b[0m\u001b[0;34m:\u001b[0m\u001b[0;34m\u001b[0m\u001b[0;34m\u001b[0m\u001b[0m\n",
      "\u001b[0;31mValueError\u001b[0m: invalid literal for int() with base 10: 'xx'"
     ]
    }
   ],
   "source": [
    "fun(\"xx\", {\"a\": \"b\"})"
   ]
  },
  {
   "cell_type": "code",
   "execution_count": 16,
   "metadata": {
    "slideshow": {
     "slide_type": "subslide"
    }
   },
   "outputs": [],
   "source": [
    "def fun(my_int, my_dict):\n",
    "    print (my_int, my_dict)\n",
    "    try:\n",
    "        int(my_int)\n",
    "        my_dict[\"a\"]\n",
    "    except ValueError as e:\n",
    "        print(\"Złapałem ValueError\")\n",
    "        raise e"
   ]
  },
  {
   "cell_type": "code",
   "execution_count": 17,
   "metadata": {
    "slideshow": {
     "slide_type": "fragment"
    }
   },
   "outputs": [
    {
     "name": "stdout",
     "output_type": "stream",
     "text": [
      "xx {'a': 'b'}\n",
      "Złapałem ValueError\n"
     ]
    },
    {
     "ename": "ValueError",
     "evalue": "invalid literal for int() with base 10: 'xx'",
     "output_type": "error",
     "traceback": [
      "\u001b[0;31m---------------------------------------------------------------------------\u001b[0m",
      "\u001b[0;31mValueError\u001b[0m                                Traceback (most recent call last)",
      "\u001b[0;32m<ipython-input-17-ee3bf2f862cc>\u001b[0m in \u001b[0;36m<module>\u001b[0;34m\u001b[0m\n\u001b[0;32m----> 1\u001b[0;31m \u001b[0mfun\u001b[0m\u001b[0;34m(\u001b[0m\u001b[0;34m\"xx\"\u001b[0m\u001b[0;34m,\u001b[0m \u001b[0;34m{\u001b[0m\u001b[0;34m\"a\"\u001b[0m\u001b[0;34m:\u001b[0m \u001b[0;34m\"b\"\u001b[0m\u001b[0;34m}\u001b[0m\u001b[0;34m)\u001b[0m\u001b[0;34m\u001b[0m\u001b[0;34m\u001b[0m\u001b[0m\n\u001b[0m",
      "\u001b[0;32m<ipython-input-16-d183034ef1eb>\u001b[0m in \u001b[0;36mfun\u001b[0;34m(my_int, my_dict)\u001b[0m\n\u001b[1;32m      6\u001b[0m     \u001b[0;32mexcept\u001b[0m \u001b[0mValueError\u001b[0m \u001b[0;32mas\u001b[0m \u001b[0me\u001b[0m\u001b[0;34m:\u001b[0m\u001b[0;34m\u001b[0m\u001b[0;34m\u001b[0m\u001b[0m\n\u001b[1;32m      7\u001b[0m         \u001b[0mprint\u001b[0m\u001b[0;34m(\u001b[0m\u001b[0;34m\"Złapałem ValueError\"\u001b[0m\u001b[0;34m)\u001b[0m\u001b[0;34m\u001b[0m\u001b[0;34m\u001b[0m\u001b[0m\n\u001b[0;32m----> 8\u001b[0;31m         \u001b[0;32mraise\u001b[0m \u001b[0me\u001b[0m\u001b[0;34m\u001b[0m\u001b[0;34m\u001b[0m\u001b[0m\n\u001b[0m",
      "\u001b[0;32m<ipython-input-16-d183034ef1eb>\u001b[0m in \u001b[0;36mfun\u001b[0;34m(my_int, my_dict)\u001b[0m\n\u001b[1;32m      2\u001b[0m     \u001b[0mprint\u001b[0m \u001b[0;34m(\u001b[0m\u001b[0mmy_int\u001b[0m\u001b[0;34m,\u001b[0m \u001b[0mmy_dict\u001b[0m\u001b[0;34m)\u001b[0m\u001b[0;34m\u001b[0m\u001b[0;34m\u001b[0m\u001b[0m\n\u001b[1;32m      3\u001b[0m     \u001b[0;32mtry\u001b[0m\u001b[0;34m:\u001b[0m\u001b[0;34m\u001b[0m\u001b[0;34m\u001b[0m\u001b[0m\n\u001b[0;32m----> 4\u001b[0;31m         \u001b[0mint\u001b[0m\u001b[0;34m(\u001b[0m\u001b[0mmy_int\u001b[0m\u001b[0;34m)\u001b[0m\u001b[0;34m\u001b[0m\u001b[0;34m\u001b[0m\u001b[0m\n\u001b[0m\u001b[1;32m      5\u001b[0m         \u001b[0mmy_dict\u001b[0m\u001b[0;34m[\u001b[0m\u001b[0;34m\"a\"\u001b[0m\u001b[0;34m]\u001b[0m\u001b[0;34m\u001b[0m\u001b[0;34m\u001b[0m\u001b[0m\n\u001b[1;32m      6\u001b[0m     \u001b[0;32mexcept\u001b[0m \u001b[0mValueError\u001b[0m \u001b[0;32mas\u001b[0m \u001b[0me\u001b[0m\u001b[0;34m:\u001b[0m\u001b[0;34m\u001b[0m\u001b[0;34m\u001b[0m\u001b[0m\n",
      "\u001b[0;31mValueError\u001b[0m: invalid literal for int() with base 10: 'xx'"
     ]
    }
   ],
   "source": [
    "fun(\"xx\", {\"a\": \"b\"})"
   ]
  },
  {
   "cell_type": "markdown",
   "metadata": {
    "slideshow": {
     "slide_type": "subslide"
    }
   },
   "source": [
    "## 2.5 Własna definicja klasy wyjątku"
   ]
  },
  {
   "cell_type": "markdown",
   "metadata": {
    "slideshow": {
     "slide_type": "fragment"
    }
   },
   "source": [
    "### 2.5.1 Definiowanie własnych błędów"
   ]
  },
  {
   "cell_type": "markdown",
   "metadata": {
    "slideshow": {
     "slide_type": "fragment"
    }
   },
   "source": [
    "- błąd powinien dziedziczyć po Exception\n",
    "- zazwyczaj klasy błędów są proste\n",
    "- często, gdy planujemy stworzyć więcej niż jeden błąd, tworzy się wspólną nadklasę dla modułu"
   ]
  },
  {
   "cell_type": "code",
   "execution_count": 79,
   "metadata": {
    "slideshow": {
     "slide_type": "subslide"
    }
   },
   "outputs": [],
   "source": [
    "class IncorrectGuessError(Exception):\n",
    "    def __init__(self, difference):\n",
    "        self.difference = difference"
   ]
  },
  {
   "cell_type": "code",
   "execution_count": 80,
   "metadata": {
    "slideshow": {
     "slide_type": "-"
    }
   },
   "outputs": [],
   "source": [
    "class NumberTooSmall(IncorrectGuessError):\n",
    "    pass"
   ]
  },
  {
   "cell_type": "code",
   "execution_count": 81,
   "metadata": {
    "slideshow": {
     "slide_type": "-"
    }
   },
   "outputs": [],
   "source": [
    "class NumberTooBig(IncorrectGuessError):\n",
    "    pass"
   ]
  },
  {
   "cell_type": "code",
   "execution_count": 82,
   "metadata": {
    "slideshow": {
     "slide_type": "fragment"
    }
   },
   "outputs": [],
   "source": [
    "def guess_number(guess):\n",
    "    number = 10\n",
    "    if guess > number:\n",
    "        raise NumberToBig(guess - number)\n",
    "    elif guess < number:\n",
    "        raise NumberTooSmall(number - guess)\n",
    "    else:\n",
    "        print('Brawo')"
   ]
  },
  {
   "cell_type": "code",
   "execution_count": 83,
   "metadata": {
    "slideshow": {
     "slide_type": "fragment"
    }
   },
   "outputs": [
    {
     "name": "stdout",
     "output_type": "stream",
     "text": [
      "Za malo o 6\n"
     ]
    }
   ],
   "source": [
    "try:\n",
    "    guess_number(4)\n",
    "except NumberTooSmall as exc:\n",
    "    print('Za malo o {}'.format(exc.difference))\n",
    "except NumberTooBig:\n",
    "    print('Za duzo o {}'.format(exc.difference))"
   ]
  },
  {
   "cell_type": "markdown",
   "metadata": {
    "slideshow": {
     "slide_type": "subslide"
    }
   },
   "source": [
    "Dzięki instrukcji `else` możemy wykonać jakiś kod TYLKO wtedy, gdy kod w bloku `try` wykona się bez błędu"
   ]
  },
  {
   "cell_type": "code",
   "execution_count": 84,
   "metadata": {
    "slideshow": {
     "slide_type": "subslide"
    }
   },
   "outputs": [],
   "source": [
    "def fun(my_int, my_dict):\n",
    "    print (my_int, my_dict)\n",
    "    try:\n",
    "        int(my_int)\n",
    "        my_dict[\"a\"]\n",
    "    except ValueError:\n",
    "        print(\"Złapałem błąd\")\n",
    "    else:\n",
    "        print(\"Bez błędu!\")"
   ]
  },
  {
   "cell_type": "code",
   "execution_count": 85,
   "metadata": {
    "slideshow": {
     "slide_type": "fragment"
    }
   },
   "outputs": [
    {
     "name": "stdout",
     "output_type": "stream",
     "text": [
      "4 {'a': 'b'}\n",
      "Bez błędu!\n"
     ]
    }
   ],
   "source": [
    "fun(\"4\", {\"a\": \"b\"})"
   ]
  },
  {
   "cell_type": "code",
   "execution_count": 86,
   "metadata": {
    "slideshow": {
     "slide_type": "fragment"
    }
   },
   "outputs": [
    {
     "name": "stdout",
     "output_type": "stream",
     "text": [
      "x {'c': 'd'}\n",
      "Złapałem błąd\n"
     ]
    }
   ],
   "source": [
    "fun(\"x\", {\"a\": \"b\"})"
   ]
  },
  {
   "cell_type": "code",
   "execution_count": 18,
   "metadata": {
    "slideshow": {
     "slide_type": "fragment"
    }
   },
   "outputs": [
    {
     "name": "stdout",
     "output_type": "stream",
     "text": [
      "4 {'c': 'd'}\n"
     ]
    },
    {
     "ename": "KeyError",
     "evalue": "'a'",
     "output_type": "error",
     "traceback": [
      "\u001b[0;31m---------------------------------------------------------------------------\u001b[0m",
      "\u001b[0;31mKeyError\u001b[0m                                  Traceback (most recent call last)",
      "\u001b[0;32m<ipython-input-18-37f88deb1c1e>\u001b[0m in \u001b[0;36m<module>\u001b[0;34m\u001b[0m\n\u001b[0;32m----> 1\u001b[0;31m \u001b[0mfun\u001b[0m\u001b[0;34m(\u001b[0m\u001b[0;34m\"4\"\u001b[0m\u001b[0;34m,\u001b[0m \u001b[0;34m{\u001b[0m\u001b[0;34m\"c\"\u001b[0m\u001b[0;34m:\u001b[0m \u001b[0;34m\"d\"\u001b[0m\u001b[0;34m}\u001b[0m\u001b[0;34m)\u001b[0m\u001b[0;34m\u001b[0m\u001b[0;34m\u001b[0m\u001b[0m\n\u001b[0m",
      "\u001b[0;32m<ipython-input-16-d183034ef1eb>\u001b[0m in \u001b[0;36mfun\u001b[0;34m(my_int, my_dict)\u001b[0m\n\u001b[1;32m      3\u001b[0m     \u001b[0;32mtry\u001b[0m\u001b[0;34m:\u001b[0m\u001b[0;34m\u001b[0m\u001b[0;34m\u001b[0m\u001b[0m\n\u001b[1;32m      4\u001b[0m         \u001b[0mint\u001b[0m\u001b[0;34m(\u001b[0m\u001b[0mmy_int\u001b[0m\u001b[0;34m)\u001b[0m\u001b[0;34m\u001b[0m\u001b[0;34m\u001b[0m\u001b[0m\n\u001b[0;32m----> 5\u001b[0;31m         \u001b[0mmy_dict\u001b[0m\u001b[0;34m[\u001b[0m\u001b[0;34m\"a\"\u001b[0m\u001b[0;34m]\u001b[0m\u001b[0;34m\u001b[0m\u001b[0;34m\u001b[0m\u001b[0m\n\u001b[0m\u001b[1;32m      6\u001b[0m     \u001b[0;32mexcept\u001b[0m \u001b[0mValueError\u001b[0m \u001b[0;32mas\u001b[0m \u001b[0me\u001b[0m\u001b[0;34m:\u001b[0m\u001b[0;34m\u001b[0m\u001b[0;34m\u001b[0m\u001b[0m\n\u001b[1;32m      7\u001b[0m         \u001b[0mprint\u001b[0m\u001b[0;34m(\u001b[0m\u001b[0;34m\"Złapałem ValueError\"\u001b[0m\u001b[0;34m)\u001b[0m\u001b[0;34m\u001b[0m\u001b[0;34m\u001b[0m\u001b[0m\n",
      "\u001b[0;31mKeyError\u001b[0m: 'a'"
     ]
    }
   ],
   "source": [
    "fun(\"4\", {\"c\": \"d\"})"
   ]
  },
  {
   "cell_type": "markdown",
   "metadata": {
    "slideshow": {
     "slide_type": "subslide"
    }
   },
   "source": [
    "Kod, który chcemy żeby wykonał się zawsze umieszczamy w bloku `finally`"
   ]
  },
  {
   "cell_type": "code",
   "execution_count": 88,
   "metadata": {
    "slideshow": {
     "slide_type": "subslide"
    }
   },
   "outputs": [],
   "source": [
    "def fun(my_int, my_dict):\n",
    "    print (my_int, my_dict)\n",
    "    try:\n",
    "        int(my_int)\n",
    "        my_dict['a']\n",
    "    except ValueError:\n",
    "        print('Złapałem błąd')\n",
    "    else:\n",
    "        print('Bez błędu!')\n",
    "    finally:\n",
    "        print('*' * 80)"
   ]
  },
  {
   "cell_type": "code",
   "execution_count": 89,
   "metadata": {
    "slideshow": {
     "slide_type": "fragment"
    }
   },
   "outputs": [
    {
     "name": "stdout",
     "output_type": "stream",
     "text": [
      "4 {'a': 'b'}\n",
      "Bez błędu!\n",
      "********************************************************************************\n"
     ]
    }
   ],
   "source": [
    "fun(\"4\", {\"a\": \"b\"})"
   ]
  },
  {
   "cell_type": "code",
   "execution_count": 90,
   "metadata": {
    "slideshow": {
     "slide_type": "fragment"
    }
   },
   "outputs": [
    {
     "name": "stdout",
     "output_type": "stream",
     "text": [
      "x {'c': 'd'}\n",
      "Złapałem błąd\n",
      "********************************************************************************\n"
     ]
    }
   ],
   "source": [
    "fun(\"x\", {\"a\": \"b\"})"
   ]
  },
  {
   "cell_type": "code",
   "execution_count": 91,
   "metadata": {
    "slideshow": {
     "slide_type": "fragment"
    }
   },
   "outputs": [
    {
     "name": "stdout",
     "output_type": "stream",
     "text": [
      "4 {'c': 'd'}\n",
      "********************************************************************************\n"
     ]
    },
    {
     "ename": "KeyError",
     "evalue": "'a'",
     "output_type": "error",
     "traceback": [
      "\u001b[0;31m---------------------------------------------------------------------------\u001b[0m",
      "\u001b[0;31mKeyError\u001b[0m                                  Traceback (most recent call last)",
      "\u001b[0;32m<ipython-input-91-5b47eac5e70e>\u001b[0m in \u001b[0;36m<module>\u001b[0;34m\u001b[0m\n\u001b[0;32m----> 1\u001b[0;31m \u001b[0mfun\u001b[0m\u001b[0;34m(\u001b[0m\u001b[0;34m'4'\u001b[0m\u001b[0;34m,\u001b[0m \u001b[0;34m{\u001b[0m\u001b[0;34m'c'\u001b[0m\u001b[0;34m:\u001b[0m \u001b[0;34m'd'\u001b[0m\u001b[0;34m}\u001b[0m\u001b[0;34m)\u001b[0m\u001b[0;34m\u001b[0m\u001b[0;34m\u001b[0m\u001b[0m\n\u001b[0m",
      "\u001b[0;32m<ipython-input-88-e760f94fefdc>\u001b[0m in \u001b[0;36mfun\u001b[0;34m(my_int, my_dict)\u001b[0m\n\u001b[1;32m      3\u001b[0m     \u001b[0;32mtry\u001b[0m\u001b[0;34m:\u001b[0m\u001b[0;34m\u001b[0m\u001b[0;34m\u001b[0m\u001b[0m\n\u001b[1;32m      4\u001b[0m         \u001b[0mint\u001b[0m\u001b[0;34m(\u001b[0m\u001b[0mmy_int\u001b[0m\u001b[0;34m)\u001b[0m\u001b[0;34m\u001b[0m\u001b[0;34m\u001b[0m\u001b[0m\n\u001b[0;32m----> 5\u001b[0;31m         \u001b[0mmy_dict\u001b[0m\u001b[0;34m[\u001b[0m\u001b[0;34m'a'\u001b[0m\u001b[0;34m]\u001b[0m\u001b[0;34m\u001b[0m\u001b[0;34m\u001b[0m\u001b[0m\n\u001b[0m\u001b[1;32m      6\u001b[0m     \u001b[0;32mexcept\u001b[0m \u001b[0mValueError\u001b[0m\u001b[0;34m:\u001b[0m\u001b[0;34m\u001b[0m\u001b[0;34m\u001b[0m\u001b[0m\n\u001b[1;32m      7\u001b[0m         \u001b[0mprint\u001b[0m\u001b[0;34m(\u001b[0m\u001b[0;34m'Złapałem błąd'\u001b[0m\u001b[0;34m)\u001b[0m\u001b[0;34m\u001b[0m\u001b[0;34m\u001b[0m\u001b[0m\n",
      "\u001b[0;31mKeyError\u001b[0m: 'a'"
     ]
    }
   ],
   "source": [
    "fun(\"4\", {\"c\": \"d\"})"
   ]
  },
  {
   "cell_type": "markdown",
   "metadata": {
    "slideshow": {
     "slide_type": "subslide"
    }
   },
   "source": [
    "kod w bloku `finally` wykonuje się zawsze\n",
    "- niezależnie od tego czy wyjątek był obsłużony czy nie\n",
    "- wykona się nawet jeśli w `try`, `except`, `else` nastąpi `return` lub `break`\n",
    "- jeśli wyjątek nie jest obsłużony `finally` po wykonaniu kodu w swoim bloku rzuci ponownie tym samym wyjątkiem"
   ]
  },
  {
   "cell_type": "markdown",
   "metadata": {
    "slideshow": {
     "slide_type": "slide"
    }
   },
   "source": [
    "# 3. Pliki"
   ]
  },
  {
   "cell_type": "code",
   "execution_count": 19,
   "metadata": {
    "slideshow": {
     "slide_type": "subslide"
    }
   },
   "outputs": [],
   "source": [
    "f = open(\"test.txt\", \"w\")\n",
    "f.write(\"Linia pierwsza\\n\")\n",
    "f.write(\"Linia druga\\n\")\n",
    "f.write(\"Linia trzecia\\n\")\n",
    "f.close()"
   ]
  },
  {
   "cell_type": "markdown",
   "metadata": {
    "slideshow": {
     "slide_type": "fragment"
    },
    "toc-hr-collapsed": false
   },
   "source": [
    "## 3.1 Otwieranie pliku"
   ]
  },
  {
   "cell_type": "markdown",
   "metadata": {
    "slideshow": {
     "slide_type": "subslide"
    }
   },
   "source": [
    "- `open` przyjmuje relatywną lub absolutną ścieżkę do pliku który otwieramy\n",
    "- `open` przyjmuje też obiekt typu PathLib\n",
    "- reszta argumentów jest opcjonalna, często używa się jedynie argumentu `mode`\n",
    "- `mode` określa w jakim trybie otwieramy plik\n",
    "- dostępne tryby: 'r' (__read__), 'w' (__write__), 'a' (__append__), 'r+' (__read__+__write__)\n",
    "- domyślny tryb przy otwieraniu pliku to 'r' (__read__)\n",
    "- __write__ nadpisuje plik, append dodaje do końca\n",
    "- mode określa dodatkowo tryb tekstowy ('t' - domyślnie) lub binarny ('b')\n",
    "- zwraca obiekt pliku\n",
    "- domyślne kodowanie tekstu w trybie tekstowym to UTF-8"
   ]
  },
  {
   "cell_type": "code",
   "execution_count": 93,
   "metadata": {
    "slideshow": {
     "slide_type": "subslide"
    }
   },
   "outputs": [
    {
     "data": {
      "text/plain": [
       "14"
      ]
     },
     "execution_count": 93,
     "metadata": {},
     "output_type": "execute_result"
    }
   ],
   "source": [
    "f = open(\"test.txt\", \"w\")\n",
    "f.write(\"Linia pierwsza\\n\")\n",
    "f.write(\"Linia druga\\n\")\n",
    "f.write(\"Linia trzecia\\n\")"
   ]
  },
  {
   "cell_type": "markdown",
   "metadata": {
    "slideshow": {
     "slide_type": "subslide"
    }
   },
   "source": [
    "## Przydatne linki\n",
    "\n",
    "- https://docs.python.org/3/tutorial/inputoutput.html#reading-and-writing-files\n",
    "- https://docs.python.org/3/library/functions.html#open\n",
    "- https://docs.python.org/3/glossary.html#term-file-object\n"
   ]
  },
  {
   "cell_type": "markdown",
   "metadata": {
    "slideshow": {
     "slide_type": "subslide"
    }
   },
   "source": [
    "## 3.2 Zamykanie pliku"
   ]
  },
  {
   "cell_type": "markdown",
   "metadata": {
    "slideshow": {
     "slide_type": "subslide"
    }
   },
   "source": [
    "- metoda `close` dostępna jest jako atrybyt obiektu pliku\n",
    "- CPython dzięki `Garbage collectorowi` z licznikiem referencji sam zadba o zamknięcie pliku\n",
    "- mimo działania `GC` __ZAWSZE__ powinniśmy zadbać o to sami - to, że CPython zamknie plik to `ficzer` tej konkretnej implementacji interpretera, część innych implementacji nie zapewnia obsługi tej funkcjonalności "
   ]
  },
  {
   "cell_type": "code",
   "execution_count": 20,
   "metadata": {
    "slideshow": {
     "slide_type": "subslide"
    }
   },
   "outputs": [
    {
     "ename": "ZeroDivisionError",
     "evalue": "division by zero",
     "output_type": "error",
     "traceback": [
      "\u001b[0;31m---------------------------------------------------------------------------\u001b[0m",
      "\u001b[0;31mZeroDivisionError\u001b[0m                         Traceback (most recent call last)",
      "\u001b[0;32m<ipython-input-20-e47210a6c476>\u001b[0m in \u001b[0;36m<module>\u001b[0;34m\u001b[0m\n\u001b[1;32m      3\u001b[0m \u001b[0mf\u001b[0m\u001b[0;34m.\u001b[0m\u001b[0mwrite\u001b[0m\u001b[0;34m(\u001b[0m\u001b[0;34m\"Linia druga\\n\"\u001b[0m\u001b[0;34m)\u001b[0m\u001b[0;34m\u001b[0m\u001b[0;34m\u001b[0m\u001b[0m\n\u001b[1;32m      4\u001b[0m \u001b[0mf\u001b[0m\u001b[0;34m.\u001b[0m\u001b[0mwrite\u001b[0m\u001b[0;34m(\u001b[0m\u001b[0;34m\"Linia trzecia\\n\"\u001b[0m\u001b[0;34m)\u001b[0m\u001b[0;34m\u001b[0m\u001b[0;34m\u001b[0m\u001b[0m\n\u001b[0;32m----> 5\u001b[0;31m \u001b[0mx\u001b[0m \u001b[0;34m=\u001b[0m \u001b[0;36m1\u001b[0m \u001b[0;34m/\u001b[0m \u001b[0;36m0\u001b[0m\u001b[0;34m\u001b[0m\u001b[0;34m\u001b[0m\u001b[0m\n\u001b[0m\u001b[1;32m      6\u001b[0m \u001b[0mf\u001b[0m\u001b[0;34m.\u001b[0m\u001b[0mclose\u001b[0m\u001b[0;34m(\u001b[0m\u001b[0;34m)\u001b[0m\u001b[0;34m\u001b[0m\u001b[0;34m\u001b[0m\u001b[0m\n",
      "\u001b[0;31mZeroDivisionError\u001b[0m: division by zero"
     ]
    }
   ],
   "source": [
    "f = open(\"test.txt\", \"w\")\n",
    "f.write(\"Linia pierwsza\\n\")\n",
    "f.write(\"Linia druga\\n\")\n",
    "f.write(\"Linia trzecia\\n\")\n",
    "x = 1 / 0\n",
    "f.close()"
   ]
  },
  {
   "cell_type": "code",
   "execution_count": 23,
   "metadata": {
    "slideshow": {
     "slide_type": "subslide"
    }
   },
   "outputs": [
    {
     "name": "stdout",
     "output_type": "stream",
     "text": [
      "Zamykam plik\n",
      "Plik zamkniety\n"
     ]
    },
    {
     "ename": "ZeroDivisionError",
     "evalue": "division by zero",
     "output_type": "error",
     "traceback": [
      "\u001b[0;31m---------------------------------------------------------------------------\u001b[0m",
      "\u001b[0;31mZeroDivisionError\u001b[0m                         Traceback (most recent call last)",
      "\u001b[0;32m<ipython-input-23-e2b504bb96c4>\u001b[0m in \u001b[0;36m<module>\u001b[0;34m\u001b[0m\n\u001b[1;32m      4\u001b[0m     \u001b[0mf\u001b[0m\u001b[0;34m.\u001b[0m\u001b[0mwrite\u001b[0m\u001b[0;34m(\u001b[0m\u001b[0;34m\"Linia druga\\n\"\u001b[0m\u001b[0;34m)\u001b[0m\u001b[0;34m\u001b[0m\u001b[0;34m\u001b[0m\u001b[0m\n\u001b[1;32m      5\u001b[0m     \u001b[0mf\u001b[0m\u001b[0;34m.\u001b[0m\u001b[0mwrite\u001b[0m\u001b[0;34m(\u001b[0m\u001b[0;34m\"Linia trzecia\\n\"\u001b[0m\u001b[0;34m)\u001b[0m\u001b[0;34m\u001b[0m\u001b[0;34m\u001b[0m\u001b[0m\n\u001b[0;32m----> 6\u001b[0;31m     \u001b[0mx\u001b[0m \u001b[0;34m=\u001b[0m \u001b[0;36m1\u001b[0m \u001b[0;34m/\u001b[0m \u001b[0;36m0\u001b[0m\u001b[0;34m\u001b[0m\u001b[0;34m\u001b[0m\u001b[0m\n\u001b[0m\u001b[1;32m      7\u001b[0m \u001b[0;32mfinally\u001b[0m\u001b[0;34m:\u001b[0m\u001b[0;34m\u001b[0m\u001b[0;34m\u001b[0m\u001b[0m\n\u001b[1;32m      8\u001b[0m     \u001b[0mprint\u001b[0m\u001b[0;34m(\u001b[0m\u001b[0;34m\"Zamykam plik\"\u001b[0m\u001b[0;34m)\u001b[0m\u001b[0;34m\u001b[0m\u001b[0;34m\u001b[0m\u001b[0m\n",
      "\u001b[0;31mZeroDivisionError\u001b[0m: division by zero"
     ]
    }
   ],
   "source": [
    "try:\n",
    "    f = open(\"test.txt\", \"w\")\n",
    "    f.write(\"Linia pierwsza\\n\")\n",
    "    f.write(\"Linia druga\\n\")\n",
    "    f.write(\"Linia trzecia\\n\")\n",
    "    x = 1 / 0\n",
    "finally:\n",
    "    print(\"Zamykam plik\")\n",
    "    f.close()\n",
    "    print(\"Plik zamkniety\")"
   ]
  },
  {
   "cell_type": "markdown",
   "metadata": {
    "slideshow": {
     "slide_type": "subslide"
    }
   },
   "source": [
    "O zamknięcie pliku da się zadbać łatwiej"
   ]
  },
  {
   "cell_type": "code",
   "execution_count": 27,
   "metadata": {
    "slideshow": {
     "slide_type": "subslide"
    }
   },
   "outputs": [
    {
     "ename": "ZeroDivisionError",
     "evalue": "division by zero",
     "output_type": "error",
     "traceback": [
      "\u001b[0;31m---------------------------------------------------------------------------\u001b[0m",
      "\u001b[0;31mZeroDivisionError\u001b[0m                         Traceback (most recent call last)",
      "\u001b[0;32m<ipython-input-27-eb91ddb1580e>\u001b[0m in \u001b[0;36m<module>\u001b[0;34m\u001b[0m\n\u001b[1;32m      3\u001b[0m     \u001b[0mf\u001b[0m\u001b[0;34m.\u001b[0m\u001b[0mwrite\u001b[0m\u001b[0;34m(\u001b[0m\u001b[0;34m\"Linia druga\\n\"\u001b[0m\u001b[0;34m)\u001b[0m\u001b[0;34m\u001b[0m\u001b[0;34m\u001b[0m\u001b[0m\n\u001b[1;32m      4\u001b[0m     \u001b[0mf\u001b[0m\u001b[0;34m.\u001b[0m\u001b[0mwrite\u001b[0m\u001b[0;34m(\u001b[0m\u001b[0;34m\"Linia trzecia\\n\"\u001b[0m\u001b[0;34m)\u001b[0m\u001b[0;34m\u001b[0m\u001b[0;34m\u001b[0m\u001b[0m\n\u001b[0;32m----> 5\u001b[0;31m     \u001b[0mx\u001b[0m \u001b[0;34m=\u001b[0m \u001b[0;36m1\u001b[0m \u001b[0;34m/\u001b[0m \u001b[0;36m0\u001b[0m\u001b[0;34m\u001b[0m\u001b[0;34m\u001b[0m\u001b[0m\n\u001b[0m",
      "\u001b[0;31mZeroDivisionError\u001b[0m: division by zero"
     ]
    }
   ],
   "source": [
    "with open(\"test.txt\", \"w\") as f:\n",
    "    f.write(\"Linia pierwsza\\n\")\n",
    "    f.write(\"Linia druga\\n\")\n",
    "    f.write(\"Linia trzecia\\n\")\n",
    "    x = 1 / 0"
   ]
  },
  {
   "cell_type": "markdown",
   "metadata": {
    "slideshow": {
     "slide_type": "subslide"
    }
   },
   "source": [
    "## 3.3 Dlaczego nie można zostawić otwartego pliku?"
   ]
  },
  {
   "cell_type": "markdown",
   "metadata": {
    "slideshow": {
     "slide_type": "subslide"
    }
   },
   "source": [
    "- wpisane przez nas zmiany mogą nie zostać zflushowane na dysk (zależne od implementacji - flush zapewnia, że dane z bufora zapisują się na dysku)\n",
    "- systemy operacyjne mają limit otwartych plików - możemy dostać wyjątek w przypadku otwarcia zbyt dużej liczby plików\n",
    "- czasami niezamknięty plik uniemożliwia odmontowanie, wyjęcie jakiegoś nośnika danych"
   ]
  },
  {
   "cell_type": "markdown",
   "metadata": {
    "slideshow": {
     "slide_type": "subslide"
    }
   },
   "source": [
    "### 3.3.1 Przydatne linki"
   ]
  },
  {
   "cell_type": "markdown",
   "metadata": {
    "slideshow": {
     "slide_type": "subslide"
    }
   },
   "source": [
    "- https://stackoverflow.com/questions/3167494/how-often-does-python-flush-to-a-file\n",
    "- https://askubuntu.com/questions/701491/is-closing-a-file-after-having-opened-it-with-open-required-in-python"
   ]
  },
  {
   "cell_type": "markdown",
   "metadata": {
    "slideshow": {
     "slide_type": "slide"
    }
   },
   "source": [
    "# 4 Context Manager"
   ]
  },
  {
   "cell_type": "markdown",
   "metadata": {
    "slideshow": {
     "slide_type": "subslide"
    }
   },
   "source": [
    "## 4.1 contextmanager"
   ]
  },
  {
   "cell_type": "markdown",
   "metadata": {
    "slideshow": {
     "slide_type": "fragment"
    }
   },
   "source": [
    "- obiekt, który definiuje w jakim kontekście ma się wywołać owijany kod\n",
    "- określa, co ma się wykonać przed i po wykonaniu bloku kodu owijanego\n",
    "- zazwyczaj wywoływane ze pomocą `with`, ale da się też bezpośrednio wywołać poszczególne metody\n",
    "- przykłady użycia: zamykanie otwartych plików, zwalnianie zasobów/locków, przywracanie jakiegoś globalnego stanu"
   ]
  },
  {
   "cell_type": "markdown",
   "metadata": {
    "slideshow": {
     "slide_type": "fragment"
    }
   },
   "source": [
    "- https://docs.python.org/3/reference/datamodel.html#context-managers\n",
    "- https://docs.python.org/3/library/stdtypes.html#typecontextmanager"
   ]
  },
  {
   "cell_type": "markdown",
   "metadata": {
    "slideshow": {
     "slide_type": "subslide"
    }
   },
   "source": [
    "## 4.1.1 with"
   ]
  },
  {
   "cell_type": "markdown",
   "metadata": {
    "slideshow": {
     "slide_type": "fragment"
    }
   },
   "source": [
    "- `with` jest używane do owinięcia bloku kodu za pomocą metod określonych w context managerze\n",
    "- używane do zarządzania zasobami w danym bloku\n",
    "- da się dzięki temu ładnie owinąć `try`...`except`...`finally`"
   ]
  },
  {
   "cell_type": "markdown",
   "metadata": {
    "slideshow": {
     "slide_type": "fragment"
    }
   },
   "source": [
    "- https://docs.python.org/3/reference/compound_stmts.html#with\n",
    "- https://www.python.org/dev/peps/pep-0343/"
   ]
  },
  {
   "cell_type": "code",
   "execution_count": 96,
   "metadata": {
    "slideshow": {
     "slide_type": "subslide"
    }
   },
   "outputs": [
    {
     "ename": "ValueError",
     "evalue": "I/O operation on closed file.",
     "output_type": "error",
     "traceback": [
      "\u001b[0;31m---------------------------------------------------------------------------\u001b[0m",
      "\u001b[0;31mValueError\u001b[0m                                Traceback (most recent call last)",
      "\u001b[0;32m<ipython-input-96-e86e0da938d7>\u001b[0m in \u001b[0;36m<module>\u001b[0;34m\u001b[0m\n\u001b[1;32m      2\u001b[0m     \u001b[0mf\u001b[0m\u001b[0;34m.\u001b[0m\u001b[0mwrite\u001b[0m\u001b[0;34m(\u001b[0m\u001b[0;34m'Linia pierwsza\\n'\u001b[0m\u001b[0;34m)\u001b[0m\u001b[0;34m\u001b[0m\u001b[0;34m\u001b[0m\u001b[0m\n\u001b[1;32m      3\u001b[0m     \u001b[0mf\u001b[0m\u001b[0;34m.\u001b[0m\u001b[0mwrite\u001b[0m\u001b[0;34m(\u001b[0m\u001b[0;34m'Linia druga\\n'\u001b[0m\u001b[0;34m)\u001b[0m\u001b[0;34m\u001b[0m\u001b[0;34m\u001b[0m\u001b[0m\n\u001b[0;32m----> 4\u001b[0;31m \u001b[0mf\u001b[0m\u001b[0;34m.\u001b[0m\u001b[0mwrite\u001b[0m\u001b[0;34m(\u001b[0m\u001b[0;34m'Linia trzecia\\n'\u001b[0m\u001b[0;34m)\u001b[0m\u001b[0;34m\u001b[0m\u001b[0;34m\u001b[0m\u001b[0m\n\u001b[0m",
      "\u001b[0;31mValueError\u001b[0m: I/O operation on closed file."
     ]
    }
   ],
   "source": [
    "with open('test.txt', 'w') as f:\n",
    "    f.write('Linia pierwsza\\n')\n",
    "    f.write('Linia druga\\n')\n",
    "f.write('Linia trzecia\\n')"
   ]
  },
  {
   "cell_type": "markdown",
   "metadata": {
    "slideshow": {
     "slide_type": "subslide"
    }
   },
   "source": [
    "# 5 Pracy z plikami ciąg dalszy"
   ]
  },
  {
   "cell_type": "markdown",
   "metadata": {
    "slideshow": {
     "slide_type": "subslide"
    }
   },
   "source": [
    "## Wprowadzenie:\n",
    "\n",
    "Jesteś pracownikiem w firmie spedycyjnej \"TEU Logistics\".\n",
    "Twoja firma zajmuje się przewozem towarów w morskich kontenerach własnymi statkami po całym świecie.\n",
    "Manager poprosił Cię o małą analizę danych dlatego wysłał Ci plik z danymi (CSV) w którym są dane aktualnie transportowanych kontenerów przez \"TEU Logistics\".\n",
    "Dane są trochę mało czytelne i jest ich za dużo na \"ręczne\" kalkulacje.\n",
    "\n",
    "W pierwszym wierszu, w każdej kolumnie podany jest numer, nazwa i klasa statku który przewozi ładunek.\n",
    "W kolejnych wierszach w każdej kolumnie widnieją dane kontenerów znajdującego się na pokładzie danego statu w kolumnie wraz z kwotą jaka została pobrana za przewóz kontenera."
   ]
  },
  {
   "cell_type": "markdown",
   "metadata": {
    "slideshow": {
     "slide_type": "subslide"
    }
   },
   "source": [
    "## Szczegóły"
   ]
  },
  {
   "cell_type": "markdown",
   "metadata": {
    "slideshow": {
     "slide_type": "subslide"
    }
   },
   "source": [
    "### Statek:\n",
    "Nazwa statku, jego port startowy oraz docelowy i klasa podana jest w formacie:\n",
    " - __aa-bb: xxxxxx (ttttttt)__\n",
    " \n",
    "gdzie:\n",
    " - __aa__ - kraj załadunku statku\n",
    " - __bb__ - kraj rozładunku statku\n",
    " - __xxxxxx__: nazwa statku\n",
    " - __tttttt__: klasa statku\n",
    "\n",
    "np: __ES-PL: Cool Ship (Small Feeder)__"
   ]
  },
  {
   "cell_type": "markdown",
   "metadata": {
    "slideshow": {
     "slide_type": "subslide"
    }
   },
   "source": [
    "### Kontener:\n",
    "Każdy kontener ma identyfikator nadany w formacie:\n",
    "- __aa-bb-cccccccc/yyyy/xx@ddddddddd.ee__\n",
    "\n",
    "gdzie:\n",
    "- __aa__ - kraj pochodzenia kontenera\n",
    "- __bb__ - kraj docelowy kontenera\n",
    "- __ccccccccc__ - numer kontenera (nie jest unikalny !!)\n",
    "- __yyyy__ - waga kontenera w kilogramach (cyfrowo 0001-9999)\n",
    "- __xx__ - typ ładunku w kontenerze (A0-Z9)\n",
    "- __dddddddd.ee__ - nazwa i kraj pochodzenia firmy która nadaje kontener, kraj jest 2 literowym oznaczeniem wg ISO 3166-1\n",
    "- długość pól __cccccc__, __dddddd__ nie jest stała\n",
    "- __pl-jp-2343432/2201/A1@companyname.pl__ oraz __pl-jp-1223123/2201/A1@companyname.de__ to kontenery 2 różnych firm wg systemu informatycznego Twojej firmy.\n",
    "\n",
    "Rekord jest połączeniem identyfikatora i kwoty w formacie:\n",
    "- identyfikator/kwota:\n",
    " - pl-jp-2343432/3100/Z1@companyname.pl/83427\n",
    "\n",
    "Z wszelakich powodów takich jak różne kontrakty, terminy, kolejność załadunku, waga i rodzaj ładunku, cena wysyłki kontenera jest bardzo różna.\n",
    "Zauważ że kraj pochodzenia i destynacji kontenera nie jest tożsamy z portem docelowym dla kontenera, często taki kontenery trzeba przeładować kilka razy."
   ]
  },
  {
   "cell_type": "markdown",
   "metadata": {},
   "source": [
    "## Zadanie rekrutacyjne 1:\n",
    "(15pkt) Ile kontenerów finalnie trafi do Japonii (JP)? (liczba kontenerów)"
   ]
  },
  {
   "cell_type": "markdown",
   "metadata": {},
   "source": [
    "## Zadanie rekrutacyjne 2:\n",
    "(15pkt) Jaka klasa statku średnio przewozi najwięcej kontenerów? (sama nazwa klasy statku)"
   ]
  },
  {
   "cell_type": "markdown",
   "metadata": {},
   "source": [
    "## Zadanie rekrutacyjne 3:\n",
    "(20pkt) Jaka jest średnia waga kontenera z przetworami owocowymi (A3) z dokładnością do 1 kg np: 1234 (zaokrąglane w górę)?"
   ]
  },
  {
   "cell_type": "markdown",
   "metadata": {},
   "source": [
    "## Zadanie rekrutacyjne 4:\n",
    "(25pkt) Która Polska firma globalnie przewozi najwięcej kontenerów? (nazwa firmy)"
   ]
  },
  {
   "cell_type": "markdown",
   "metadata": {},
   "source": [
    "## Zadanie rekrutacyjne 5:\n",
    "(25pkt) Jakiego typu ładunek o największej wartości eksportują Niemieckie firmy z Niemczech? (wartość to stosunek ceny do wagi)"
   ]
  },
  {
   "cell_type": "code",
   "execution_count": 60,
   "metadata": {
    "slideshow": {
     "slide_type": "subslide"
    }
   },
   "outputs": [],
   "source": [
    "from collections import defaultdict\n",
    "from statistics import mean\n",
    "from math import ceil\n",
    "\n",
    "\n",
    "def get_data(filename):\n",
    "    \"\"\"Data file parser.\"\"\"\n",
    "    rows = list()\n",
    "    data = list()\n",
    "    with open(filename, \"r\") as f:\n",
    "        headers = f.readline().strip(\"\\n\").split(\";\")\n",
    "        for line in f:\n",
    "            rows.append(line.strip(\") \\n\").split(\";\"))\n",
    "\n",
    "    for i in range(len(headers)):\n",
    "        x = headers[i].split(\" \")\n",
    "        ship_data = {\n",
    "            \"aa\": (x[0].split(\"-\"))[0],\n",
    "            \"bb\": (x[0].split(\"-\"))[1],\n",
    "            \"name\": x[1],\n",
    "            \"class\": x[2].strip(\"()\"),\n",
    "        }\n",
    "        cargo = list(filter(lambda teu: len(teu), [y[i] for y in rows]))\n",
    "        for j, teu in enumerate(cargo):\n",
    "            # aa-bb-cccccccc/yyyy/xx@ddddddddd.ee/pp\n",
    "            aabbcc, yyyy, xxdee, pp = teu.split(\"/\")\n",
    "            aa, bb, cc = aabbcc.split(\"-\")\n",
    "            xx, dee = xxdee.split(\"@\")\n",
    "            d, ee = dee.split(\".\")\n",
    "\n",
    "            cargo[j] = {\n",
    "                \"aa\": aa,\n",
    "                \"bb\": bb,\n",
    "                \"cc\": cc,\n",
    "                \"yyyy\": int(yyyy),\n",
    "                \"xx\": xx,\n",
    "                \"d\": d,\n",
    "                \"ee\": ee,\n",
    "                \"pp\": int(pp),\n",
    "            }\n",
    "        ship_data.update({\"cargo_size\": len(cargo), \"cargo\": cargo})\n",
    "        data.append(ship_data)\n",
    "\n",
    "    return data"
   ]
  },
  {
   "cell_type": "code",
   "execution_count": 61,
   "metadata": {
    "slideshow": {
     "slide_type": "subslide"
    }
   },
   "outputs": [],
   "source": [
    "data = get_data(\"./dane.csv\")"
   ]
  },
  {
   "cell_type": "markdown",
   "metadata": {
    "slideshow": {
     "slide_type": "subslide"
    }
   },
   "source": [
    "1. O którym języku programowania zorganizowano najwiecej konferencji?"
   ]
  },
  {
   "cell_type": "code",
   "execution_count": 62,
   "metadata": {
    "slideshow": {
     "slide_type": "fragment"
    }
   },
   "outputs": [],
   "source": [
    "# aa-bb-cccccccc/yyyy/xx@ddddddddd.ee/pp\n",
    "def assignment_1(data):\n",
    "    jp = 0\n",
    "    for ship in data:\n",
    "        for teu in ship[\"cargo\"]:\n",
    "            if teu[\"bb\"] == \"JP\":\n",
    "                jp += 1\n",
    "    return jp"
   ]
  },
  {
   "cell_type": "code",
   "execution_count": 63,
   "metadata": {
    "slideshow": {
     "slide_type": "fragment"
    }
   },
   "outputs": [
    {
     "data": {
      "text/plain": [
       "3779"
      ]
     },
     "execution_count": 63,
     "metadata": {},
     "output_type": "execute_result"
    }
   ],
   "source": [
    "assignment_1(data)"
   ]
  },
  {
   "cell_type": "markdown",
   "metadata": {
    "slideshow": {
     "slide_type": "subslide"
    }
   },
   "source": [
    "2. Jaka klasa statku średnio przewozi najwięcej kontenerów?"
   ]
  },
  {
   "cell_type": "code",
   "execution_count": 64,
   "metadata": {
    "slideshow": {
     "slide_type": "fragment"
    }
   },
   "outputs": [],
   "source": [
    "# aa-bb-cccccccc/yyyy/xx@ddddddddd.ee/pp\n",
    "def assignment_2(data):\n",
    "    teu_counter = defaultdict(list)\n",
    "    for ship in data:\n",
    "        teu_counter[ship[\"class\"]].append(ship[\"cargo_size\"])\n",
    "    return max(teu_counter.keys(), key=(lambda key: mean(teu_counter[key])))"
   ]
  },
  {
   "cell_type": "code",
   "execution_count": 65,
   "metadata": {
    "slideshow": {
     "slide_type": "fragment"
    }
   },
   "outputs": [
    {
     "data": {
      "text/plain": [
       "'ULCV'"
      ]
     },
     "execution_count": 65,
     "metadata": {},
     "output_type": "execute_result"
    }
   ],
   "source": [
    "assignment_2(data)"
   ]
  },
  {
   "cell_type": "markdown",
   "metadata": {
    "slideshow": {
     "slide_type": "subslide"
    }
   },
   "source": [
    "3. Jaka jest średnia waga kontenera z materiałami łatwopalnymi (X1) z dokładnością do 1 kg np: 1234 (zaokrągląne w górę)?"
   ]
  },
  {
   "cell_type": "code",
   "execution_count": 66,
   "metadata": {
    "slideshow": {
     "slide_type": "fragment"
    }
   },
   "outputs": [],
   "source": [
    "# aa-bb-cccccccc/yyyy/xx@ddddddddd.ee/pp\n",
    "def assignment_3(data):\n",
    "    a3_teus = list()\n",
    "    for ship in data:\n",
    "        a3_teus.extend(x[\"yyyy\"] for x in ship[\"cargo\"] if x[\"xx\"] == \"A3\")\n",
    "    return ceil(mean(a3_teus))"
   ]
  },
  {
   "cell_type": "code",
   "execution_count": 67,
   "metadata": {
    "slideshow": {
     "slide_type": "fragment"
    }
   },
   "outputs": [
    {
     "data": {
      "text/plain": [
       "2924"
      ]
     },
     "execution_count": 67,
     "metadata": {},
     "output_type": "execute_result"
    }
   ],
   "source": [
    "assignment_3(data)"
   ]
  },
  {
   "cell_type": "markdown",
   "metadata": {
    "slideshow": {
     "slide_type": "subslide"
    }
   },
   "source": [
    "4. Która firma w Polsce wysyła najwięcej kontenerów?"
   ]
  },
  {
   "cell_type": "code",
   "execution_count": 68,
   "metadata": {
    "slideshow": {
     "slide_type": "fragment"
    }
   },
   "outputs": [],
   "source": [
    "# aa-bb-cccccccc/yyyy/xx@ddddddddd.ee/pp\n",
    "def assignment_4(data):\n",
    "    teu_counter = defaultdict(int)\n",
    "    for ship in data:\n",
    "        for teu in ship[\"cargo\"]:\n",
    "            if teu[\"ee\"] == \"pl\":\n",
    "                teu_counter[teu[\"d\"]] += 1\n",
    "    return max(teu_counter.keys(), key=(lambda key: teu_counter[key]))"
   ]
  },
  {
   "cell_type": "code",
   "execution_count": 69,
   "metadata": {
    "slideshow": {
     "slide_type": "fragment"
    }
   },
   "outputs": [
    {
     "data": {
      "text/plain": [
       "'qdiku'"
      ]
     },
     "execution_count": 69,
     "metadata": {},
     "output_type": "execute_result"
    }
   ],
   "source": [
    "assignment_4(data)"
   ]
  },
  {
   "cell_type": "markdown",
   "metadata": {
    "slideshow": {
     "slide_type": "subslide"
    }
   },
   "source": [
    "5. Jakiego typu ładunek o największej wartości (stosunek wagi do ceny) exportują Niemickie firmy z niemczech?"
   ]
  },
  {
   "cell_type": "code",
   "execution_count": 70,
   "metadata": {
    "slideshow": {
     "slide_type": "fragment"
    }
   },
   "outputs": [],
   "source": [
    "# aa-bb-cccccccc/yyyy/xx@ddddddddd.ee/pp\n",
    "def assignment_5(data):\n",
    "    cargo_type = defaultdict(list)\n",
    "    for ship in data:\n",
    "        for teu in ship[\"cargo\"]:\n",
    "            if teu[\"bb\"] == \"DE\" and teu[\"ee\"] == \"de\":\n",
    "                cargo_type[teu[\"xx\"]].append((teu[\"pp\"], teu[\"yyyy\"]))\n",
    "    \n",
    "    for teu, values in cargo_type.items():\n",
    "        cargo_type[teu] = sum([x for x, _ in values]) / sum([x for x, _ in values]) \n",
    "\n",
    "    return max(cargo_type.keys(), key=(lambda key: cargo_type[key]))"
   ]
  },
  {
   "cell_type": "code",
   "execution_count": 71,
   "metadata": {
    "slideshow": {
     "slide_type": "fragment"
    }
   },
   "outputs": [
    {
     "data": {
      "text/plain": [
       "'B1'"
      ]
     },
     "execution_count": 71,
     "metadata": {},
     "output_type": "execute_result"
    }
   ],
   "source": [
    "assignment_5(data)"
   ]
  }
 ],
 "metadata": {
  "kernelspec": {
   "display_name": "Python 3",
   "language": "python",
   "name": "python3"
  },
  "language_info": {
   "codemirror_mode": {
    "name": "ipython",
    "version": 3
   },
   "file_extension": ".py",
   "mimetype": "text/x-python",
   "name": "python",
   "nbconvert_exporter": "python",
   "pygments_lexer": "ipython3",
   "version": "3.8.2"
  },
  "toc-autonumbering": false,
  "toc-showcode": false,
  "toc-showmarkdowntxt": false,
  "toc-showtags": false
 },
 "nbformat": 4,
 "nbformat_minor": 4
}
